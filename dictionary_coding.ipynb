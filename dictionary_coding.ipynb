{
 "cells": [
  {
   "cell_type": "markdown",
   "metadata": {},
   "source": [
    "## Import"
   ]
  },
  {
   "cell_type": "code",
   "execution_count": 1,
   "metadata": {},
   "outputs": [
    {
     "name": "stdout",
     "output_type": "stream",
     "text": [
      "Requirement already satisfied: numpy in c:\\users\\admin\\anaconda3\\lib\\site-packages (1.21.5)\n",
      "Requirement already satisfied: matplotlib in c:\\users\\admin\\anaconda3\\lib\\site-packages (3.5.1)\n",
      "Requirement already satisfied: cycler>=0.10 in c:\\users\\admin\\anaconda3\\lib\\site-packages (from matplotlib) (0.11.0)\n",
      "Requirement already satisfied: numpy>=1.17 in c:\\users\\admin\\anaconda3\\lib\\site-packages (from matplotlib) (1.21.5)\n",
      "Requirement already satisfied: fonttools>=4.22.0 in c:\\users\\admin\\anaconda3\\lib\\site-packages (from matplotlib) (4.25.0)\n",
      "Requirement already satisfied: kiwisolver>=1.0.1 in c:\\users\\admin\\anaconda3\\lib\\site-packages (from matplotlib) (1.3.2)\n",
      "Requirement already satisfied: python-dateutil>=2.7 in c:\\users\\admin\\anaconda3\\lib\\site-packages (from matplotlib) (2.8.2)\n",
      "Requirement already satisfied: packaging>=20.0 in c:\\users\\admin\\anaconda3\\lib\\site-packages (from matplotlib) (21.3)\n",
      "Requirement already satisfied: pillow>=6.2.0 in c:\\users\\admin\\anaconda3\\lib\\site-packages (from matplotlib) (9.0.1)\n",
      "Requirement already satisfied: pyparsing>=2.2.1 in c:\\users\\admin\\anaconda3\\lib\\site-packages (from matplotlib) (3.0.4)\n",
      "Requirement already satisfied: six>=1.5 in c:\\users\\admin\\anaconda3\\lib\\site-packages (from python-dateutil>=2.7->matplotlib) (1.16.0)\n",
      "Requirement already satisfied: seaborn in c:\\users\\admin\\anaconda3\\lib\\site-packages (0.11.2)\n",
      "Requirement already satisfied: numpy>=1.15 in c:\\users\\admin\\anaconda3\\lib\\site-packages (from seaborn) (1.21.5)\n",
      "Requirement already satisfied: matplotlib>=2.2 in c:\\users\\admin\\anaconda3\\lib\\site-packages (from seaborn) (3.5.1)\n",
      "Requirement already satisfied: pandas>=0.23 in c:\\users\\admin\\anaconda3\\lib\\site-packages (from seaborn) (1.4.2)\n",
      "Requirement already satisfied: scipy>=1.0 in c:\\users\\admin\\anaconda3\\lib\\site-packages (from seaborn) (1.7.3)\n",
      "Requirement already satisfied: pyparsing>=2.2.1 in c:\\users\\admin\\anaconda3\\lib\\site-packages (from matplotlib>=2.2->seaborn) (3.0.4)\n",
      "Requirement already satisfied: kiwisolver>=1.0.1 in c:\\users\\admin\\anaconda3\\lib\\site-packages (from matplotlib>=2.2->seaborn) (1.3.2)\n",
      "Requirement already satisfied: packaging>=20.0 in c:\\users\\admin\\anaconda3\\lib\\site-packages (from matplotlib>=2.2->seaborn) (21.3)\n",
      "Requirement already satisfied: fonttools>=4.22.0 in c:\\users\\admin\\anaconda3\\lib\\site-packages (from matplotlib>=2.2->seaborn) (4.25.0)\n",
      "Requirement already satisfied: pillow>=6.2.0 in c:\\users\\admin\\anaconda3\\lib\\site-packages (from matplotlib>=2.2->seaborn) (9.0.1)\n",
      "Requirement already satisfied: python-dateutil>=2.7 in c:\\users\\admin\\anaconda3\\lib\\site-packages (from matplotlib>=2.2->seaborn) (2.8.2)\n",
      "Requirement already satisfied: cycler>=0.10 in c:\\users\\admin\\anaconda3\\lib\\site-packages (from matplotlib>=2.2->seaborn) (0.11.0)\n",
      "Requirement already satisfied: pytz>=2020.1 in c:\\users\\admin\\anaconda3\\lib\\site-packages (from pandas>=0.23->seaborn) (2021.3)\n",
      "Requirement already satisfied: six>=1.5 in c:\\users\\admin\\anaconda3\\lib\\site-packages (from python-dateutil>=2.7->matplotlib>=2.2->seaborn) (1.16.0)\n"
     ]
    }
   ],
   "source": [
    "!pip install numpy\n",
    "!pip install matplotlib\n",
    "!pip install seaborn\n",
    "\n",
    "import numpy as np\n",
    "from math import log, ceil\n",
    "from copy import deepcopy\n",
    "import matplotlib.pyplot as plt\n",
    "import seaborn as sns\n",
    "import pickle"
   ]
  },
  {
   "cell_type": "markdown",
   "metadata": {},
   "source": [
    "## Set parameters"
   ]
  },
  {
   "cell_type": "code",
   "execution_count": 2,
   "metadata": {},
   "outputs": [],
   "source": [
    "mean_gen = 4.5\n",
    "std_gen = 3\n",
    "\n",
    "random_seed = 0  # 실험 결과 분석을 위한 랜덤 시드 고정\n",
    "\n",
    "src_sym_seq_len_candidate = [1,10,100,1000,10000,100000,1000000]\n",
    "src_alphabets = set(range(10))\n",
    "\n",
    "avg_bit_per_symbol_result = dict()"
   ]
  },
  {
   "cell_type": "markdown",
   "metadata": {},
   "source": [
    "## Generation source symbol sequence"
   ]
  },
  {
   "cell_type": "code",
   "execution_count": 3,
   "metadata": {},
   "outputs": [],
   "source": [
    "def src_sym_gnerator(src_alphabets, mean_gen, std_gen, src_sym_seq_len):\n",
    "\n",
    "    src_sym_seq = np.array(np.round(np.random.normal(loc = mean_gen, scale = std_gen, size=(src_sym_seq_len)), 0),dtype='int8')  # 가우스 분포를 따르는 랜덤 심볼 시퀀스 생성 및 반올림을 통해 정수로 고정\n",
    "    src_sym_seq = src_sym_seq.clip(0,9)  # Decimal 을 제외한 수  bound 고정: min 0, max 9\n",
    "\n",
    "    return src_sym_seq\n",
    "\n",
    "def find_sym_prob(src_sym_seq):\n",
    "    sym_prob = {sym: num_of_sym/len(src_sym_seq) for (sym, num_of_sym) in zip(*np.unique(src_sym_seq, return_counts=True))}\n",
    "    return sym_prob"
   ]
  },
  {
   "cell_type": "markdown",
   "metadata": {},
   "source": [
    "## Init dictionary"
   ]
  },
  {
   "cell_type": "code",
   "execution_count": 4,
   "metadata": {},
   "outputs": [],
   "source": [
    "def initalize_dic(src_alphabets):\n",
    "    init_dic = [(0,sym) for sym in [None]+list(src_alphabets)]\n",
    "    return init_dic"
   ]
  },
  {
   "cell_type": "markdown",
   "metadata": {},
   "source": [
    "## Encoder"
   ]
  },
  {
   "cell_type": "code",
   "execution_count": 5,
   "metadata": {},
   "outputs": [],
   "source": [
    "def encoding(src_alphabets, src_sym_seq):\n",
    "    transmitted_codewords = list()\n",
    "    encoder_dic = initalize_dic(src_alphabets)\n",
    "    n = 0\n",
    "\n",
    "    for current_seq_idx, current_sym in enumerate(src_sym_seq):\n",
    "        if (n,current_sym) in encoder_dic:\n",
    "            n = encoder_dic.index((n,current_sym))\n",
    "        else:\n",
    "            transmitted_codewords.append(n)\n",
    "            encoder_dic.append((n,current_sym))\n",
    "            n = encoder_dic.index((0,current_sym))\n",
    "\n",
    "    transmitted_codewords.append(n)  # 마지막 n 추가\n",
    "\n",
    "    return transmitted_codewords, encoder_dic"
   ]
  },
  {
   "cell_type": "markdown",
   "metadata": {},
   "source": [
    "## Decoder"
   ]
  },
  {
   "cell_type": "code",
   "execution_count": 6,
   "metadata": {},
   "outputs": [],
   "source": [
    "def decoding(src_alphabets, received_codewords):\n",
    "    def codeword_2_sym_seq(decoder_dic, ptr):\n",
    "        sym_seq = list()\n",
    "        while ptr != 0:\n",
    "            sym_seq.append(decoder_dic[ptr][1])\n",
    "            ptr = decoder_dic[ptr][0]\n",
    "        sym_seq.reverse()\n",
    "        return sym_seq\n",
    "\n",
    "    decoder_dic = initalize_dic(src_alphabets)\n",
    "    decoded_sym_seq = list()\n",
    "    prev_codeword = None\n",
    "\n",
    "    for current_codeword_index in range(len(received_codewords)):\n",
    "        # current_codeword_index 에 대해\n",
    "        current_codeword = received_codewords[current_codeword_index]\n",
    "        current_ptr = current_codeword  # 직전에 추가되었어야 하는 dic element에 대응 어려움\n",
    "        try:\n",
    "            # current_ptr이 존재하는 경우\n",
    "            tmp_seq = codeword_2_sym_seq(decoder_dic, current_ptr)\n",
    "        except:\n",
    "            # current_ptr이 존재하지 않는 경우..\n",
    "\n",
    "            # 직전에 추가되었어야 하는 dic element를 바로 참조했을 때 오류 발생\n",
    "            # 우선 해당 dic element를 먼저 decoder_dic에 추가\n",
    "            tmp_seq = codeword_2_sym_seq(decoder_dic, prev_codeword)\n",
    "            prev_dic_element = (prev_codeword, tmp_seq[0])  # 임의로 먼저 추가\n",
    "            decoder_dic.append(prev_dic_element)\n",
    "            prev_codeword = None  # 중복 추가 못 하도록 조건 걸음\n",
    "\n",
    "            # 동일 작업 수행\n",
    "            tmp_seq = codeword_2_sym_seq(decoder_dic, current_ptr)\n",
    "\n",
    "        decoded_sym_seq = decoded_sym_seq + tmp_seq\n",
    "\n",
    "        # 이전 codeword에 해당하는 dic element 추가\n",
    "        if prev_codeword != None:\n",
    "            prev_dic_element = (prev_codeword, tmp_seq[0])\n",
    "            decoder_dic.append(prev_dic_element)\n",
    "\n",
    "        prev_codeword = current_codeword\n",
    "    return decoded_sym_seq, decoder_dic"
   ]
  },
  {
   "cell_type": "code",
   "execution_count": 7,
   "metadata": {},
   "outputs": [],
   "source": [
    "def verification(src_sym_seq, decoded_sym_seq, encoder_dic, decoder_dic):\n",
    "    dic_error = False\n",
    "    if encoder_dic != decoder_dic:\n",
    "        print('생성한 딕셔너리가 서로 다름')\n",
    "        dic_error = True\n",
    "\n",
    "    error_count = 0\n",
    "    for boolean in decoded_sym_seq != src_sym_seq:\n",
    "        if boolean:\n",
    "            print('error')\n",
    "            error_count += 1\n",
    "\n",
    "    return dic_error, error_count"
   ]
  },
  {
   "cell_type": "markdown",
   "metadata": {},
   "source": [
    "## Main"
   ]
  },
  {
   "cell_type": "code",
   "execution_count": 8,
   "metadata": {},
   "outputs": [],
   "source": [
    "def main(src_alphabets, src_sym_seq_len, mean_gen, std_gen, random_seed = None,):\n",
    "    np.random.seed(random_seed)  # 실험 결과 분석을 위한 랜덤 시드 고정\n",
    "\n",
    "    src_sym_seq = src_sym_gnerator(src_alphabets, mean_gen, std_gen, src_sym_seq_len)\n",
    "    sym_prob = find_sym_prob(src_sym_seq)\n",
    "\n",
    "    src_entropy = 0\n",
    "    for each_sym_prob in sym_prob.values():\n",
    "        src_entropy += each_sym_prob*log(1/each_sym_prob,2)\n",
    "    \n",
    "    transmitted_codewords, encoder_dic = encoding(src_alphabets, src_sym_seq)\n",
    "    decoded_sym_seq, decoder_dic = decoding(src_alphabets, received_codewords = transmitted_codewords)\n",
    "\n",
    "    dic_error, error_count = verification(src_sym_seq, decoded_sym_seq, encoder_dic, decoder_dic)\n",
    "\n",
    "    result_dic = {\n",
    "        'src_sym_seq_len' : src_sym_seq_len,\n",
    "        'src_sym_seq' : src_sym_seq,\n",
    "        'sym_prob' : sym_prob,\n",
    "        'src_entropy' : src_entropy,\n",
    "        'transmitted_codewords' : transmitted_codewords,\n",
    "        'encoder_dic' : encoder_dic,\n",
    "        'decoded_sym_seq' : decoded_sym_seq,\n",
    "        'decoder_dic' : decoder_dic,\n",
    "        'dic_error' : dic_error,\n",
    "        'error_count' : error_count,\n",
    "        'avg_bit_per_symbol' : ceil(log(len(encoder_dic),2)) * len(transmitted_codewords) / src_sym_seq_len,\n",
    "\n",
    "    }\n",
    "    return result_dic"
   ]
  },
  {
   "cell_type": "markdown",
   "metadata": {},
   "source": [
    "## 결과 분석"
   ]
  },
  {
   "cell_type": "code",
   "execution_count": 9,
   "metadata": {},
   "outputs": [],
   "source": [
    "save_path = 'C:/NAS/간단백업/충남대학교/충대2022/4학년 2학기/정보및부호이론/과제/실험'\n",
    "\n",
    "for src_sym_seq_len in src_sym_seq_len_candidate:\n",
    "    file_name = f'seq_len{src_sym_seq_len}.pickle'\n",
    "    each_result = main(src_alphabets, src_sym_seq_len, mean_gen, std_gen, random_seed = random_seed)\n",
    "    with open(f'{save_path}/{file_name}','wb') as fw:\n",
    "        pickle.dump(each_result, fw)\n",
    "    avg_bit_per_symbol_result[src_sym_seq_len] = each_result['avg_bit_per_symbol']\n",
    "\n",
    "with open(f'{save_path}/avg_bit_per_symbol_result.pickle','wb') as fw:\n",
    "    pickle.dump(avg_bit_per_symbol_result, fw)"
   ]
  },
  {
   "cell_type": "code",
   "execution_count": 10,
   "metadata": {},
   "outputs": [
    {
     "data": {
      "image/png": "[encoded data removed]",
      "text/plain": [
       "<Figure size 432x288 with 1 Axes>"
      ]
     },
     "metadata": {
      "needs_background": "light"
     },
     "output_type": "display_data"
    },
    {
     "data": {
      "text/plain": [
       "{1: 4.0,\n",
       " 10: 5.0,\n",
       " 100: 5.53,\n",
       " 1000: 5.08,\n",
       " 10000: 4.2756,\n",
       " 100000: 4.08255,\n",
       " 1000000: 3.92787}"
      ]
     },
     "execution_count": 10,
     "metadata": {},
     "output_type": "execute_result"
    }
   ],
   "source": [
    "plt.figure()\n",
    "plt.plot(avg_bit_per_symbol_result.keys(),avg_bit_per_symbol_result.values(),'o-',label='Average bit per symbol')\n",
    "plt.xscale('log')\n",
    "plt.xlabel('Sequence length')\n",
    "plt.ylabel('Average bit per symbol')\n",
    "plt.legend()\n",
    "plt.show()\n",
    "avg_bit_per_symbol_result"
   ]
  },
  {
   "cell_type": "markdown",
   "metadata": {},
   "source": [
    "## 저장된 결과 불러와서 분석"
   ]
  },
  {
   "cell_type": "code",
   "execution_count": 11,
   "metadata": {},
   "outputs": [],
   "source": [
    "save_path = 'C:/NAS/간단백업/충남대학교/충대2022/4학년 2학기/정보및부호이론/과제/실험'\n",
    "\n",
    "total_result = list()\n",
    "\n",
    "for src_sym_seq_len in src_sym_seq_len_candidate:\n",
    "    file_name = f'seq_len{src_sym_seq_len}.pickle'\n",
    "    with open(f'{save_path}/{file_name}','rb') as fr:\n",
    "        total_result.append(pickle.load(fr))\n",
    "\n",
    "with open(f'{save_path}/avg_bit_per_symbol_result.pickle','rb') as fr:\n",
    "        avg_bit_per_symbol_result = pickle.load(fr)"
   ]
  },
  {
   "cell_type": "code",
   "execution_count": 12,
   "metadata": {},
   "outputs": [
    {
     "name": "stderr",
     "output_type": "stream",
     "text": [
      "C:\\Users\\Admin\\AppData\\Local\\Temp\\ipykernel_14704\\851202282.py:3: MatplotlibDeprecationWarning: Passing the linefmt parameter positionally is deprecated since Matplotlib 3.5; the parameter will become keyword-only two minor releases later.\n",
      "  plt.stem(total_result[-1]['sym_prob'].keys(),total_result[-1]['sym_prob'].values(),'o',label='symbol probability')\n"
     ]
    },
    {
     "data": {
      "image/png": "[encoded data removed]",
      "text/plain": [
       "<Figure size 432x288 with 1 Axes>"
      ]
     },
     "metadata": {
      "needs_background": "light"
     },
     "output_type": "display_data"
    }
   ],
   "source": [
    "# 생성된 심볼 순열의 시각화\n",
    "plt.figure()\n",
    "plt.stem(total_result[-1]['sym_prob'].keys(),total_result[-1]['sym_prob'].values(),'o',label='symbol probability')\n",
    "plt.xticks(list(total_result[-1]['sym_prob'].keys()))\n",
    "plt.xlabel('Symbol')\n",
    "plt.ylabel('Probability')\n",
    "# plt.legend()\n",
    "plt.show()\n",
    "\n"
   ]
  },
  {
   "cell_type": "code",
   "execution_count": 15,
   "metadata": {},
   "outputs": [
    {
     "data": {
      "text/plain": [
       "[1, 10, 100, 1000, 10000, 100000, 1000000]"
      ]
     },
     "execution_count": 15,
     "metadata": {},
     "output_type": "execute_result"
    }
   ],
   "source": [
    "[dic['src_sym_seq_len'] for dic in total_result]"
   ]
  },
  {
   "cell_type": "code",
   "execution_count": 20,
   "metadata": {},
   "outputs": [
    {
     "data": {
      "image/png": "[encoded data removed]",
      "text/plain": [
       "<Figure size 432x288 with 1 Axes>"
      ]
     },
     "metadata": {
      "needs_background": "light"
     },
     "output_type": "display_data"
    }
   ],
   "source": [
    "plt.figure()\n",
    "plt.plot([dic['src_sym_seq_len'] for dic in total_result],[dic['src_entropy'] for dic in total_result],'o-',label='Source entropy')\n",
    "plt.xscale('log')\n",
    "plt.xlabel('Sequence length')\n",
    "plt.ylabel('Source entropy')\n",
    "plt.legend()\n",
    "plt.show()"
   ]
  },
  {
   "cell_type": "code",
   "execution_count": 17,
   "metadata": {},
   "outputs": [],
   "source": [
    "# # 생성된 심볼 순열의 시각화\n",
    "# plt.figure()\n",
    "# plt.stem(sym_prob.keys(),sym_prob.values(),'o',label='symbol probability')\n",
    "# plt.xticks(list(sym_prob.keys()))\n",
    "# plt.xlabel('Symbol')\n",
    "# plt.ylabel('Probability')\n",
    "# plt.legend()"
   ]
  },
  {
   "cell_type": "code",
   "execution_count": 18,
   "metadata": {},
   "outputs": [],
   "source": [
    "# src_entropy = 0\n",
    "# for each_sym_prob in sym_prob.values():\n",
    "#     src_entropy += each_sym_prob*log(1/each_sym_prob,2)\n",
    "# src_entropy"
   ]
  },
  {
   "cell_type": "code",
   "execution_count": 19,
   "metadata": {},
   "outputs": [],
   "source": [
    "# # efficiency without source coding\n",
    "# # src_entropy / avg # of binary digits for src data\n",
    "# src_entropy / 4"
   ]
  }
 ],
 "metadata": {
  "kernelspec": {
   "display_name": "Python 3.9.12 ('base')",
   "language": "python",
   "name": "python3"
  },
  "language_info": {
   "codemirror_mode": {
    "name": "ipython",
    "version": 3
   },
   "file_extension": ".py",
   "mimetype": "text/x-python",
   "name": "python",
   "nbconvert_exporter": "python",
   "pygments_lexer": "ipython3",
   "version": "3.9.12"
  },
  "orig_nbformat": 4,
  "vscode": {
   "interpreter": {
    "hash": "2043299c89c8cd0b4d1a6f5cf4529bd58e6a4e0fe3181a25e0d328c821cdc5c5"
   }
  }
 },
 "nbformat": 4,
 "nbformat_minor": 2
}
